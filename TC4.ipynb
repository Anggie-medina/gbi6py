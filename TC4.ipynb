{
 "cells": [
  {
   "attachments": {},
   "cell_type": "markdown",
   "metadata": {},
   "source": [
    "<center><img src=\"https://i.pinimg.com/originals/97/5a/1a/975a1af7f8dbce2773cdc9e257e2b1ed.jpg\" width=250 height=200 /></center>\n",
    "\n",
    "## <center><h2> Gatitos </h2></center>\n",
    "\n",
    "# <center><h1 style=\"color:gray; background-color:powdergray;\">Por Mika Medina </h1></center>\n",
    "\n",
    "<table>\n",
    "  <tr>\n",
    "    <th>Nombre</th>\n",
    "    <th>Edad</th>\n",
    "    <th>Peso</th>\n",
    "  </tr>\n",
    "  <tr>\n",
    "    <td>Aery</td>\n",
    "    <td>1</td>\n",
    "    <td>2.4kg</td>\n",
    "  </tr>\n",
    "  <tr>\n",
    "    <td>Luke</td>\n",
    "    <td>2</td>\n",
    "    <td>2.5kg</td>\n",
    "  </tr>\n",
    "  <tr>\n",
    "    <td>Nanao</td>\n",
    "    <td>5 meses</td>\n",
    "    <td>1.6kg</td>\n",
    "  </tr>\n",
    "</table>"
   ]
  }
 ],
 "metadata": {
  "language_info": {
   "name": "python"
  },
  "orig_nbformat": 4
 },
 "nbformat": 4,
 "nbformat_minor": 2
}
